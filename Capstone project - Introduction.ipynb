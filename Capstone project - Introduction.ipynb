{
 "cells": [
  {
   "cell_type": "markdown",
   "metadata": {},
   "source": [
    "## INTRODUCTION TO THE FINAL ASSIGNMENT"
   ]
  },
  {
   "cell_type": "markdown",
   "metadata": {},
   "source": [
    "Milan is continuously expanding and, consequently, also the demand for new restaurants is following a positive trende.\n",
    "Due to the very wide offer of types of cuisine that the city is able to offer, it can be difficult to understand which is the right place where a certain new restaurant should be opened or, given a certain neighbourhood, which is the most appropriate restaurant."
   ]
  },
  {
   "cell_type": "markdown",
   "metadata": {},
   "source": [
    "Data Science can help simplifying part of this problem.\n",
    "It is possible to use Foursquare location data to divide Milan according to its different neighourhoods and to identify which types of restaurant are present in each area."
   ]
  },
  {
   "cell_type": "markdown",
   "metadata": {},
   "source": [
    "After the description of each district, it will be possible to apply a Machine Learning algorithm, k-means clustering, to group the different neighbourhoods according to the most relevant types of restaurant present in them."
   ]
  }
 ],
 "metadata": {
  "kernelspec": {
   "display_name": "Python",
   "language": "python",
   "name": "conda-env-python-py"
  },
  "language_info": {
   "codemirror_mode": {
    "name": "ipython",
    "version": 3
   },
   "file_extension": ".py",
   "mimetype": "text/x-python",
   "name": "python",
   "nbconvert_exporter": "python",
   "pygments_lexer": "ipython3",
   "version": "3.6.12"
  }
 },
 "nbformat": 4,
 "nbformat_minor": 4
}
