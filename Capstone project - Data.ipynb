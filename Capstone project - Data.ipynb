{
 "cells": [
  {
   "cell_type": "markdown",
   "metadata": {},
   "source": [
    "## DATA"
   ]
  },
  {
   "cell_type": "markdown",
   "metadata": {},
   "source": [
    "In order to carry out this project, prior to using the location data taken from Foursquare, it has been necessary to divide the city of Milan in different areas.\n",
    "I decided to distinguish the different neighbourhoods of Milan using their postal codes, as each value identifies a very distinct part of the city, without allowing too many overlappings."
   ]
  },
  {
   "cell_type": "markdown",
   "metadata": {},
   "source": [
    "The assessment of each postal code area has been done using the information contained in a .html page, which was a database of the streets of Milan, each one related to its own postal code.\n",
    "This .html page has been parsed and the output has been further cleaned, in order to create a set of data that could be passed to 'geolocator.geocode' in order to identify the coordinates of each street.\n",
    "Knowing to which neighbor each street belongs, it has been possible to estimate the center of each area of Milan.\n",
    "After cleaning the initial output, each area has been identified according to the coordinates of its center and its radius, which shall be necessary later  for Foursquare."
   ]
  },
  {
   "cell_type": "markdown",
   "metadata": {},
   "source": [
    "Foursquare API has been later used to identify the most relevant types of restaurant present in each area of the city.\n",
    "These data have been put into a dataframe, which was used to cluster, using the K-Means algorithm, the city into different zones, depending on the types of restaurants present inside.  "
   ]
  }
 ],
 "metadata": {
  "kernelspec": {
   "display_name": "Python",
   "language": "python",
   "name": "conda-env-python-py"
  },
  "language_info": {
   "codemirror_mode": {
    "name": "ipython",
    "version": 3
   },
   "file_extension": ".py",
   "mimetype": "text/x-python",
   "name": "python",
   "nbconvert_exporter": "python",
   "pygments_lexer": "ipython3",
   "version": "3.6.12"
  }
 },
 "nbformat": 4,
 "nbformat_minor": 4
}
